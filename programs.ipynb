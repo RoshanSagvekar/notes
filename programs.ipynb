{
  "nbformat": 4,
  "nbformat_minor": 0,
  "metadata": {
    "colab": {
      "name": "programs.ipynb",
      "provenance": [],
      "collapsed_sections": [],
      "authorship_tag": "ABX9TyOxsj7rLb3IHpGVuUx0J0MZ"
    },
    "kernelspec": {
      "name": "python3",
      "display_name": "Python 3"
    },
    "language_info": {
      "name": "python"
    }
  },
  "cells": [
    {
      "cell_type": "markdown",
      "source": [
        "## **Write a program to accept the age of Candidate and Display weather He/She is Major Minor.**"
      ],
      "metadata": {
        "id": "qxvUDGU84Dvl"
      }
    },
    {
      "cell_type": "code",
      "source": [
        "age = int(input(\"Enter your age:\"))\n",
        "if age >18:\n",
        "  print(\"The Candidate is Major\")\n",
        "else:\n",
        "  print(\"The Candidate is Minor\")"
      ],
      "metadata": {
        "id": "HEjuptAx4Oi8"
      },
      "execution_count": null,
      "outputs": []
    },
    {
      "cell_type": "markdown",
      "source": [
        "## **Write a program to Display Number is Even or Odd Enter by User.**"
      ],
      "metadata": {
        "id": "UZHBPYZ74u9M"
      }
    },
    {
      "cell_type": "code",
      "source": [
        "num = int(input(\"Enter a number:\"))\n",
        "if num%2==0:\n",
        "  print(num,\"is even.\")\n",
        "else:\n",
        "  print(num,\"is Odd.\")"
      ],
      "metadata": {
        "id": "J3QZ7zSo46RE"
      },
      "execution_count": null,
      "outputs": []
    },
    {
      "cell_type": "markdown",
      "source": [
        "# **Write a Program to accept 2 numbers from the user and Display highest number, if both are equal display 1st number is highest.**"
      ],
      "metadata": {
        "id": "OeOXmbmP5VC8"
      }
    },
    {
      "cell_type": "code",
      "source": [
        "num1,num2 = float(input(\"Enter a number:\")),float(input(\"Enter a number:\"))\n",
        "if num1>=num2:\n",
        "  print(num1,\"is highest number.\")\n",
        "else:\n",
        "  print(num2,\"is highest number.\")"
      ],
      "metadata": {
        "colab": {
          "base_uri": "https://localhost:8080/"
        },
        "id": "ZvesM1Ow5NS4",
        "outputId": "494b3a7f-5ab6-45c7-beb4-597846724a1c"
      },
      "execution_count": null,
      "outputs": [
        {
          "output_type": "stream",
          "name": "stdout",
          "text": [
            "Enter a number:2\n",
            "Enter a number:3\n",
            "3.0 is highest number.\n"
          ]
        }
      ]
    },
    {
      "cell_type": "markdown",
      "source": [
        "## **Write a Program to accept 2 numbers from the user and Display Lowest number, if both are equal display 2nd number is lowest.**"
      ],
      "metadata": {
        "id": "5N70NIso6g4u"
      }
    },
    {
      "cell_type": "code",
      "source": [
        "num1,num2 = float(input(\"Enter a number:\")),float(input(\"Enter a number:\"))\n",
        "if num1>=num2:\n",
        "  print(num2,\"is lowest number.\")\n",
        "else:\n",
        "  print(num1,\"is lowest number.\")"
      ],
      "metadata": {
        "colab": {
          "base_uri": "https://localhost:8080/"
        },
        "id": "5KA7BQx-6PwJ",
        "outputId": "516178bf-d9d5-40a2-c5a6-0a97da6dd749"
      },
      "execution_count": null,
      "outputs": [
        {
          "output_type": "stream",
          "name": "stdout",
          "text": [
            "Enter a number:2\n",
            "Enter a number:2\n",
            "2.0 is lowest number.\n"
          ]
        }
      ]
    },
    {
      "cell_type": "markdown",
      "source": [
        "# **Write a program to accept the age of User and Display weather He/She is Major,Minor or senior citizen.**"
      ],
      "metadata": {
        "id": "LktQ7go37ME1"
      }
    },
    {
      "cell_type": "code",
      "source": [
        "age = int(input(\"Enter your age:\"))\n",
        "if 18<age<60:\n",
        "  print(\"The user is Major\")\n",
        "elif age>=60:\n",
        "  print(\"The user is senior citizen\")\n",
        "else:\n",
        "  print(\"The user is Minor\")"
      ],
      "metadata": {
        "colab": {
          "base_uri": "https://localhost:8080/"
        },
        "id": "8Dh-G-FQ7O0P",
        "outputId": "d860c9a6-5a11-4e4d-bdfa-55885c5fda1e"
      },
      "execution_count": null,
      "outputs": [
        {
          "output_type": "stream",
          "name": "stdout",
          "text": [
            "Enter your age:65\n",
            "The user is senior citizen\n"
          ]
        }
      ]
    },
    {
      "cell_type": "markdown",
      "source": [
        "## **Write a program to Display Highest of 3 numbers or equal enter by the user using logical operators.**"
      ],
      "metadata": {
        "id": "63yaDcaK8INH"
      }
    },
    {
      "cell_type": "code",
      "source": [
        "num1,num2,num3= float(input(\"Enter 1st number:\")),float(input(\"Enter 2nd number:\")),float(input(\"Enter 3rd number:\"))\n",
        "\n",
        "if num1==num2==num3:\n",
        "  print(\"All are equal.\")\n",
        "elif num1>num2 and num1>num3:\n",
        "  print(num1,\"is highest.\")\n",
        "elif num2>num1 and num2>num3:\n",
        "  print(num2,\"is highest.\")\n",
        "else:\n",
        "  print(num3,\"is highest.\")"
      ],
      "metadata": {
        "colab": {
          "base_uri": "https://localhost:8080/"
        },
        "id": "bivojmvC7pQd",
        "outputId": "aac54af4-4329-46b7-c52c-3adcb74be9b7"
      },
      "execution_count": null,
      "outputs": [
        {
          "output_type": "stream",
          "name": "stdout",
          "text": [
            "Enter 1st number:12\n",
            "Enter 2nd number:45\n",
            "Enter 3rd number:78\n",
            "78.0 is highest.\n"
          ]
        }
      ]
    },
    {
      "cell_type": "markdown",
      "source": [
        "## **Write a program to accept a character from user and Check and display the it is Vowel or Consonants.**"
      ],
      "metadata": {
        "id": "eGKixY_e9l7P"
      }
    },
    {
      "cell_type": "code",
      "source": [
        "char = input(\"Enter any character:\")\n",
        "if char in 'aeiouAEIOU':\n",
        "  print(\"it is Vowel.\")\n",
        "else:\n",
        "  print(\"it is Consonant.\")"
      ],
      "metadata": {
        "colab": {
          "base_uri": "https://localhost:8080/"
        },
        "id": "LjTMF8sc8W-Y",
        "outputId": "1dbbb0b7-83eb-4e36-cffb-69bf2226a50a"
      },
      "execution_count": null,
      "outputs": [
        {
          "output_type": "stream",
          "name": "stdout",
          "text": [
            "Enter any character:A\n",
            "it is Vowel.\n"
          ]
        }
      ]
    },
    {
      "cell_type": "markdown",
      "source": [
        "# **Write a program to accept a character from a user and check and display it is Capital Alphabet ,Small Alphabet ,Digit or Special Character using or with using membership Operator.**"
      ],
      "metadata": {
        "id": "lk5hWsL-_sCS"
      }
    },
    {
      "cell_type": "code",
      "source": [
        "char = input(\"Enter any character:\")\n",
        "if char in 'ABCDEFGHIJKLMNOPQRSTUVWXYZ':\n",
        "  print(\"It is Capital Alphabet.\")\n",
        "elif char in 'abcdefghijklmnopqrstuvwxyz':\n",
        "  print(\"It is Small Alphabet.\")\n",
        "elif char in '0123456789':\n",
        "  print(\"It is a digit\")\n",
        "else:\n",
        "  print(\"It is Special character.\")"
      ],
      "metadata": {
        "id": "raI9ff40-CZR"
      },
      "execution_count": null,
      "outputs": []
    },
    {
      "cell_type": "markdown",
      "source": [
        "Write a program to make a menu-driven program in python using simple if-else\n",
        "statements for the following operations:\n",
        "1. Area of Circle\n",
        "2. Area of Rectangle\n",
        "3. Area of square\n",
        "4. Exit"
      ],
      "metadata": {
        "id": "VDFNgRqBA241"
      }
    },
    {
      "cell_type": "code",
      "source": [
        "import sys\n",
        "print(\"1.Area of Circle\\n2.Area of Rectangle\\n3.Area of Square:\\n4.Exit\")\n",
        "choice = int(input(\"Enter a Choice:\"))\n",
        "if choice==1:\n",
        "  r = float(input(\"Enter radius of circle(in cm):\"))\n",
        "  print(\"Area of circle:\",3.14*r*r,\"sq.cm\")\n",
        "elif choice == 2:\n",
        "  l,b = float(input(\"Enter length of rectangle(in cm):\")),float(input(\"Enter breadth of rectangle(in cm):\"))\n",
        "  print(\"Area of rectangle:\",l*b,\"sq.cm\")\n",
        "elif choice == 3:\n",
        "  s = float(input(\"Enter side of square(in cm):\"))\n",
        "  print(\"Area of Square:\",s*s,\"sq.cm\")\n",
        "elif choice == 4:\n",
        "  sys.exit()\n",
        "else:\n",
        "  print(\"You have entered invalid choice,Please enter valid choice.\")"
      ],
      "metadata": {
        "id": "csSszMj3AyDh"
      },
      "execution_count": null,
      "outputs": []
    },
    {
      "cell_type": "markdown",
      "source": [
        "## **Write a Program to accept a number and counts its digits**"
      ],
      "metadata": {
        "id": "GcdWoerOKWJV"
      }
    },
    {
      "cell_type": "code",
      "source": [
        "num = int(input(\"Enter any number:\"))\n",
        "count = 0\n",
        "while num>0:\n",
        "  count+=1\n",
        "  num = num//10\n",
        "print(count)"
      ],
      "metadata": {
        "colab": {
          "base_uri": "https://localhost:8080/"
        },
        "id": "X30rizy4CQTi",
        "outputId": "96326eeb-dc31-40f7-e6d8-bd7fd8be033d"
      },
      "execution_count": null,
      "outputs": [
        {
          "output_type": "stream",
          "name": "stdout",
          "text": [
            "Enter any number:7738274506\n",
            "10\n"
          ]
        }
      ]
    },
    {
      "cell_type": "markdown",
      "source": [
        "#**Write a Program to reverse the number entered by the user.**"
      ],
      "metadata": {
        "id": "6u1wkCxaLEiH"
      }
    },
    {
      "cell_type": "code",
      "source": [
        "num = int(input(\"Enter any number:\"))\n",
        "numcopy=num\n",
        "rev = 0\n",
        "while num>0:\n",
        "  digit = num%10\n",
        "  rev = rev*10+digit\n",
        "  num = num//10\n",
        "print(\"Reverse of\",numcopy,\"is\",rev)"
      ],
      "metadata": {
        "colab": {
          "base_uri": "https://localhost:8080/"
        },
        "id": "8gU6TuXfKqFr",
        "outputId": "8bd97579-a38f-44e5-a4dc-38e964c70feb"
      },
      "execution_count": null,
      "outputs": [
        {
          "output_type": "stream",
          "name": "stdout",
          "text": [
            "Enter any number:143\n",
            "Reverse of 143 is 341\n"
          ]
        }
      ]
    },
    {
      "cell_type": "markdown",
      "source": [
        "## **Write a program to Display Sum of digits of Given number entered by user.**"
      ],
      "metadata": {
        "id": "uQZHLYh-MieD"
      }
    },
    {
      "cell_type": "code",
      "source": [
        "def sumofdigit(num): \n",
        "  n=num\n",
        "  sum=0\n",
        "  while num>0:\n",
        "    digit = num%10\n",
        "    sum = sum+digit\n",
        "    num = num//10\n",
        "  print(\"Sum of digit of\",n,\"is\",sum)\n",
        "\n",
        "num = int(input(\"Enter a number:\"))\n",
        "sumofdigit(num)"
      ],
      "metadata": {
        "id": "8Vc9-i62Lo6v"
      },
      "execution_count": null,
      "outputs": []
    },
    {
      "cell_type": "markdown",
      "source": [
        "# **Write a program to factorial of number**"
      ],
      "metadata": {
        "id": "SJQeNl47OTZ1"
      }
    },
    {
      "cell_type": "code",
      "source": [
        "num = int(input(\"Enter a number:\"))\n",
        "fact=1\n",
        "if num==1 or num==0:\n",
        "  print(\"factorial of\",num,\"is 1.\" )\n",
        "elif num >0:\n",
        "  for i in range(1,num+1):\n",
        "    fact = fact*i\n",
        "  print(\"Factorial of\",num,\":\",fact)\n",
        "else:\n",
        "  print(\"Please enter valid number.\")"
      ],
      "metadata": {
        "colab": {
          "base_uri": "https://localhost:8080/"
        },
        "id": "SDfhuNIKN-ad",
        "outputId": "b5927f36-5b92-4e9a-b949-7983ac51db42"
      },
      "execution_count": null,
      "outputs": [
        {
          "output_type": "stream",
          "name": "stdout",
          "text": [
            "Enter a number:1\n",
            "factorial of 1 is 1\n"
          ]
        }
      ]
    },
    {
      "cell_type": "markdown",
      "source": [
        "## **Factorial using recursive function**"
      ],
      "metadata": {
        "id": "2Q5b7DRAQCtB"
      }
    },
    {
      "cell_type": "code",
      "source": [
        "def fact(n):\n",
        "  if n ==1:\n",
        "    return 1\n",
        "  else:\n",
        "    return n * fact(n-1)\n",
        "print(fact(5))"
      ],
      "metadata": {
        "colab": {
          "base_uri": "https://localhost:8080/"
        },
        "id": "YNa1xbUEOqAb",
        "outputId": "72dd0a90-ae89-429a-f087-7b6f97d77552"
      },
      "execution_count": null,
      "outputs": [
        {
          "output_type": "stream",
          "name": "stdout",
          "text": [
            "120\n"
          ]
        }
      ]
    },
    {
      "cell_type": "markdown",
      "source": [
        "# **Write a program to Check and Display the number is Perfect or not.**\n",
        "A Perfect number is a positive integer that is equal to the sum of its\n",
        "positive divisors, excluding the number itself.\n",
        "For instance, 6 has divisors 1, 2 and 3, and 1 + 2 + 3 = 6, so 6 is a perfect\n",
        "number."
      ],
      "metadata": {
        "id": "YS8Epx8nRWI1"
      }
    },
    {
      "cell_type": "code",
      "source": [
        "num = int(input(\"Enter a number:\"))\n",
        "sum=0\n",
        "for i in range(1,num):\n",
        "  while num%i==0:\n",
        "    sum = sum+i\n",
        "    break\n",
        "print(\"Sum:\",sum)\n",
        "if sum == num:\n",
        "  print(num,\"is perfect number.\")\n",
        "else:\n",
        "  print(num,\"is not perfect number.\")"
      ],
      "metadata": {
        "colab": {
          "base_uri": "https://localhost:8080/"
        },
        "id": "0mUNcAisQ11K",
        "outputId": "986c7497-e6d8-4d41-92da-6e3e1eaa5f82"
      },
      "execution_count": null,
      "outputs": [
        {
          "output_type": "stream",
          "name": "stdout",
          "text": [
            "Enter a number:28\n",
            "Sum: 28\n",
            "28 is perfect number.\n"
          ]
        }
      ]
    },
    {
      "cell_type": "markdown",
      "source": [
        "**Write a program to check whether a given number is Neon Number or not.\n",
        "A Neon number is a number where the sum of digits of the square of\n",
        "the number is equal to the number.**\n",
        "**a. If entered number is between 1 to 32**\n",
        "\n",
        "**E.g**\n",
        "**1. The number is 9.**\n",
        "**Its square is 81**\n",
        "**Sum of digits of the square is 8 + 1 = 9**\n",
        "**2. The Number is 12 (Not Neon Number)**\n",
        "**Its square is 144**\n",
        "**Sum of digits of the square is 1 + 4 + 4 = 9**"
      ],
      "metadata": {
        "id": "GpXQAwoljrRH"
      }
    },
    {
      "cell_type": "code",
      "source": [
        "n = int(input(\"Enter a number(between 1 to 32):\"))\n",
        "sq=n**2\n",
        "sum=0\n",
        "while sq>0:\n",
        "  digit = sq%10\n",
        "  sum = sum + digit\n",
        "  sq =sq//10\n",
        "\n",
        "if n==sum:\n",
        "  print(n,\"is a neon number.\")\n",
        "else:\n",
        "  print(n,\"is not a neon number.\")"
      ],
      "metadata": {
        "colab": {
          "base_uri": "https://localhost:8080/"
        },
        "id": "n4VDff-0kFvg",
        "outputId": "eaa890a9-1f5c-47db-95f0-5f87c466b60d"
      },
      "execution_count": null,
      "outputs": [
        {
          "output_type": "stream",
          "name": "stdout",
          "text": [
            "Enter a number(between 1 to 32):12\n",
            "12 is not a neon number.\n"
          ]
        }
      ]
    },
    {
      "cell_type": "markdown",
      "source": [
        "**Write a program to Display Number which satisfied following Conditions (Note\n",
        "entered number must be between 33 to 99).**\n",
        "\n",
        "**E.g**\n",
        "**The number is 45**\n",
        "**Its Square is 2025**\n",
        "**Sum of 1st 2 digit and last 2 digit is 20 + 25=45**"
      ],
      "metadata": {
        "id": "sSgctgCaly_S"
      }
    },
    {
      "cell_type": "code",
      "source": [
        "n = int(input(\"Enter a number(between 33 to 99):\"))\n",
        "sq=n**2\n",
        "sum=0\n",
        "while sq>0:\n",
        "  digit = sq%100\n",
        "  sum = sum + digit\n",
        "  sq =sq//100\n",
        "print(sum)\n",
        "if n==sum:\n",
        "  print(n,\"is a neon number.\")\n",
        "else:\n",
        "  print(n,\"is not a neon number.\")"
      ],
      "metadata": {
        "id": "n6OhfCVzkyNe"
      },
      "execution_count": null,
      "outputs": []
    },
    {
      "cell_type": "markdown",
      "source": [
        "**Write a program to Check and Display if the number is Armstrong or not.**\n",
        "**a. An n-digit number that is the sum of the nth powers of its digits is called an Amstrong number**\n"
      ],
      "metadata": {
        "id": "JYEodgzjyToX"
      }
    },
    {
      "cell_type": "code",
      "source": [
        "n = num = int(input(\"Enter a number:\"))\n",
        "power = len(str(num))\n",
        "sum = 0\n",
        "while num>0:\n",
        "  digit = num % 10\n",
        "  sum = sum + digit**power\n",
        "  num = num//10\n",
        "\n",
        "if n == sum:\n",
        "  print(n,\"is a armstrong number.\")\n",
        "else:\n",
        "  print(n,\"is not a armstrong number.\")"
      ],
      "metadata": {
        "colab": {
          "base_uri": "https://localhost:8080/"
        },
        "id": "WZY-gsKDmVMC",
        "outputId": "9cb86ccb-9f62-4734-b999-a9652454f843"
      },
      "execution_count": null,
      "outputs": [
        {
          "output_type": "stream",
          "name": "stdout",
          "text": [
            "Enter a number:8208\n",
            "8208 is a armstrong number\n"
          ]
        }
      ]
    },
    {
      "cell_type": "markdown",
      "source": [
        "**Write a program to Check and Display the number is Palindrome or not.**\n",
        "\n",
        "Entered Number and Its Reverse Number is Same is known as Palindrome Number.\n",
        "E.g:-Entered Number is 121 and its Reverse is 121"
      ],
      "metadata": {
        "id": "T4FA3gQk082R"
      }
    },
    {
      "cell_type": "code",
      "source": [
        "num = n = int(input(\"Enter a number:-\"))\n",
        "rev = 0\n",
        "while num>0:\n",
        "  digit = num % 10\n",
        "  rev = rev * 10 + digit\n",
        "  num = num //10 \n",
        "if n == rev:\n",
        "  print(n,\"is palindrome.\")\n",
        "else:\n",
        "  print(n,\"is not palindrome.\")"
      ],
      "metadata": {
        "id": "apu67HeTzjVX"
      },
      "execution_count": null,
      "outputs": []
    },
    {
      "cell_type": "code",
      "source": [
        "s = input(\"Enter a string:-\")\n",
        "if s == s[::-1]:\n",
        "  print(s,\"is palindrome.\")\n",
        "else:\n",
        "  print(s,\"is not palindrome.\")"
      ],
      "metadata": {
        "id": "wIq66e2J2hQE"
      },
      "execution_count": null,
      "outputs": []
    }
  ]
}