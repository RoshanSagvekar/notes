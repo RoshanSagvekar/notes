{
  "nbformat": 4,
  "nbformat_minor": 0,
  "metadata": {
    "colab": {
      "name": "dictionary.ipynb",
      "provenance": [],
      "collapsed_sections": [],
      "toc_visible": true,
      "authorship_tag": "ABX9TyMXfIWLmjnrUIfCCc59oSDZ",
      "include_colab_link": true
    },
    "kernelspec": {
      "name": "python3",
      "display_name": "Python 3"
    },
    "language_info": {
      "name": "python"
    }
  },
  "cells": [
    {
      "cell_type": "markdown",
      "metadata": {
        "id": "view-in-github",
        "colab_type": "text"
      },
      "source": [
        "<a href=\"https://colab.research.google.com/github/RoshanSagvekar/notes/blob/master/dictionary.ipynb\" target=\"_parent\"><img src=\"https://colab.research.google.com/assets/colab-badge.svg\" alt=\"Open In Colab\"/></a>"
      ]
    },
    {
      "cell_type": "markdown",
      "source": [
        "#**Dictionary**\n",
        "\n",
        "*   Dictionary is one of the python datatype.\n",
        "*   It is used to hold the data in form of pair which contain key and value.\n",
        "*   It is changeable.\n",
        "*   Keys of dictionary is unique as well as it is immutable type of data.Value can be duplicate also or any type(mutable and immutable)List item\n",
        "*   If we insert/add a duplicate key,python will update the value of existing with a new value.\n",
        "*   Dictionary is created in python by using curly braces i.e { }\n",
        "\n",
        "\n",
        "\n",
        "\n",
        "    Syntax:-\n",
        "        variable_name={}\n",
        "        variable_name={key:value,......}\n"
      ],
      "metadata": {
        "id": "cjIs2YNZ1QDs"
      }
    },
    {
      "cell_type": "code",
      "source": [
        "d1= {}\n",
        "print(d1)"
      ],
      "metadata": {
        "colab": {
          "base_uri": "https://localhost:8080/"
        },
        "id": "3D5UXIbT2FMV",
        "outputId": "91f312de-dd01-46e8-d777-2115b76db067"
      },
      "execution_count": 1,
      "outputs": [
        {
          "output_type": "stream",
          "name": "stdout",
          "text": [
            "{}\n"
          ]
        }
      ]
    },
    {
      "cell_type": "code",
      "source": [
        "d1['empid']=101\n",
        "d1['empname']=\"ABC\"\n",
        "print('Dictionary1:-',d1)"
      ],
      "metadata": {
        "colab": {
          "base_uri": "https://localhost:8080/"
        },
        "id": "lmak8uUI2K0b",
        "outputId": "216463d6-403f-4ce5-f6e5-228d8713f0ab"
      },
      "execution_count": 2,
      "outputs": [
        {
          "output_type": "stream",
          "name": "stdout",
          "text": [
            "Dictionary1:- {'empid': 101, 'empname': 'ABC'}\n"
          ]
        }
      ]
    },
    {
      "cell_type": "markdown",
      "source": [
        "#**Access the value of dictionary.**\n",
        "Dictionary don't have any index to access it values.\n",
        "we can take key as index to access its values."
      ],
      "metadata": {
        "id": "8dYtz0rr2jwE"
      }
    },
    {
      "cell_type": "code",
      "source": [
        "print(\"Employee Name:\",d1['empname'])\n",
        "print(\"Employee ID:\",d1['empid'])"
      ],
      "metadata": {
        "colab": {
          "base_uri": "https://localhost:8080/"
        },
        "id": "R3z5J3Bu2YQk",
        "outputId": "b5100ce0-9d43-4ec1-ce4c-8148861af0e5"
      },
      "execution_count": 3,
      "outputs": [
        {
          "output_type": "stream",
          "name": "stdout",
          "text": [
            "Enployee Name: ABC\n",
            "Enployee ID: 101\n"
          ]
        }
      ]
    },
    {
      "cell_type": "markdown",
      "source": [
        "**Get values of any key of dictionary by method.**\n",
        "\n",
        "      1.get(key)\n",
        "        return values of specified key as argument."
      ],
      "metadata": {
        "id": "S0kunuwv3II-"
      }
    },
    {
      "cell_type": "code",
      "source": [
        "print(\"Employee name:-\",d1.get('empname'))"
      ],
      "metadata": {
        "colab": {
          "base_uri": "https://localhost:8080/"
        },
        "id": "g_4-Oysj25DU",
        "outputId": "653d16c9-ea18-475c-e1d7-1eb69aefd251"
      },
      "execution_count": 4,
      "outputs": [
        {
          "output_type": "stream",
          "name": "stdout",
          "text": [
            "Employee name:- ABC\n"
          ]
        }
      ]
    },
    {
      "cell_type": "markdown",
      "source": [
        "**Get all the keys of dictionary.**\n",
        "    \n",
        "    2.keys()\n",
        "        return the list of all the keys present in dictionary."
      ],
      "metadata": {
        "id": "70dIsmg63ic6"
      }
    },
    {
      "cell_type": "code",
      "source": [
        "emp={\n",
        "    'empId':101,\n",
        "    'empName':'Raj',\n",
        "    'empsalary':15000\n",
        "}\n",
        "\n",
        "print(emp.keys())"
      ],
      "metadata": {
        "colab": {
          "base_uri": "https://localhost:8080/"
        },
        "id": "VwsP0gFG3eix",
        "outputId": "8edbe821-f503-4d0a-ad85-6c505f7ba8a8"
      },
      "execution_count": 5,
      "outputs": [
        {
          "output_type": "stream",
          "name": "stdout",
          "text": [
            "dict_keys(['empId', 'empName', 'empsalary'])\n"
          ]
        }
      ]
    },
    {
      "cell_type": "markdown",
      "source": [
        "**Get all the value of dictionary.**\n",
        "\n",
        "    3.values()\n",
        "        return the list of all the values print in dictionary.\n"
      ],
      "metadata": {
        "id": "1bVrkh-B4BO4"
      }
    },
    {
      "cell_type": "code",
      "source": [
        "print(emp.values())"
      ],
      "metadata": {
        "colab": {
          "base_uri": "https://localhost:8080/"
        },
        "id": "CC-oz3OU37gf",
        "outputId": "822c0ade-b237-437f-913d-6bc562891387"
      },
      "execution_count": 6,
      "outputs": [
        {
          "output_type": "stream",
          "name": "stdout",
          "text": [
            "dict_values([101, 'Raj', 15000])\n"
          ]
        }
      ]
    },
    {
      "cell_type": "markdown",
      "source": [
        "**get all the pairs(key,values) of dictionary.**\n",
        "\n",
        "    4.items()\n",
        "        returns the list of tuple which contains the key and values."
      ],
      "metadata": {
        "id": "KHoVl82U4W0U"
      }
    },
    {
      "cell_type": "code",
      "source": [
        "print(\"Keys and Values:-\",emp.items())"
      ],
      "metadata": {
        "colab": {
          "base_uri": "https://localhost:8080/"
        },
        "id": "087ntb4K4P7r",
        "outputId": "22b20be1-052b-417c-edb8-a030f961595a"
      },
      "execution_count": 7,
      "outputs": [
        {
          "output_type": "stream",
          "name": "stdout",
          "text": [
            "Keys and Values:- dict_items([('empId', 101), ('empName', 'Raj'), ('empsalary', 15000)])\n"
          ]
        }
      ]
    },
    {
      "cell_type": "code",
      "source": [
        "items = emp.items()\n",
        "for key,value in items:\n",
        "  print(key,value,sep=\":\")"
      ],
      "metadata": {
        "colab": {
          "base_uri": "https://localhost:8080/"
        },
        "id": "3gxuDrMl4iEj",
        "outputId": "7dd4eeb7-e69b-4eb7-9446-54427f083388"
      },
      "execution_count": 11,
      "outputs": [
        {
          "output_type": "stream",
          "name": "stdout",
          "text": [
            "empId:101\n",
            "empName:Raj\n",
            "empsalary:15000\n"
          ]
        }
      ]
    },
    {
      "cell_type": "markdown",
      "source": [
        "# **Nested Dictionary**\n",
        "\n",
        "**It means dictionary inside dictionary.**"
      ],
      "metadata": {
        "id": "oc-tLkmq6RCk"
      }
    },
    {
      "cell_type": "code",
      "source": [
        "d = {'a1':[1,2,3,{'tricky':['oh','man','inception',{'target':[1,2,3,'hello']}]}]}"
      ],
      "metadata": {
        "id": "7CuFSTiv4zsK"
      },
      "execution_count": 12,
      "outputs": []
    },
    {
      "cell_type": "markdown",
      "source": [
        "**Our task is to get hello out of it through indexing.**"
      ],
      "metadata": {
        "id": "rVYkNWqn6wv_"
      }
    },
    {
      "cell_type": "code",
      "source": [
        "d['a1'][3][\"tricky\"][3]['target'][3]"
      ],
      "metadata": {
        "colab": {
          "base_uri": "https://localhost:8080/",
          "height": 35
        },
        "id": "LfIPDUSL6voM",
        "outputId": "0320edce-06be-499a-874d-636cb551626e"
      },
      "execution_count": 13,
      "outputs": [
        {
          "output_type": "execute_result",
          "data": {
            "application/vnd.google.colaboratory.intrinsic+json": {
              "type": "string"
            },
            "text/plain": [
              "'hello'"
            ]
          },
          "metadata": {},
          "execution_count": 13
        }
      ]
    },
    {
      "cell_type": "code",
      "source": [
        ""
      ],
      "metadata": {
        "id": "M4mQuhig7JyO"
      },
      "execution_count": 13,
      "outputs": []
    }
  ]
}