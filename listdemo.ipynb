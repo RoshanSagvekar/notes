{
  "nbformat": 4,
  "nbformat_minor": 0,
  "metadata": {
    "colab": {
      "name": "listdemo.ipynb",
      "provenance": [],
      "collapsed_sections": [
        "Gb6ZkpKcCQOl",
        "QdhEvZ_DEtY9"
      ],
      "authorship_tag": "ABX9TyMBrtf0aZIRvrUfh4hD1SS5"
    },
    "kernelspec": {
      "name": "python3",
      "display_name": "Python 3"
    },
    "language_info": {
      "name": "python"
    }
  },
  "cells": [
    {
      "cell_type": "markdown",
      "source": [
        "# **List**\n",
        "\n",
        "*   List is a one of the datatype of python which allows us to store multiple value of any type in single variable.\n",
        "\n",
        "*   List is a mutable datatype i.e the value of list can be changed at ruuntime.\n",
        "*   It is created by square brackets [values].\n",
        "*   It allows duplicate values.\n",
        "\n",
        "*   List is ordered(follow insertion order)\n",
        "*   It allows index to access the value from list.\n",
        "\n",
        "\n",
        "\n"
      ],
      "metadata": {
        "id": "Gb6ZkpKcCQOl"
      }
    },
    {
      "cell_type": "code",
      "source": [
        "l1 = [1,25,23,52]\n",
        "print(l1)"
      ],
      "metadata": {
        "colab": {
          "base_uri": "https://localhost:8080/"
        },
        "id": "ecNacD3sEQY5",
        "outputId": "ec0abf9f-3eeb-4460-eb59-c0e20d3b0502"
      },
      "execution_count": 49,
      "outputs": [
        {
          "output_type": "stream",
          "name": "stdout",
          "text": [
            "[1, 25, 23, 52]\n"
          ]
        }
      ]
    },
    {
      "cell_type": "code",
      "source": [
        "l2=[1,2.1,True,3+2j,[12,33,44],{12,43},\"Python\"]\n",
        "print(l2)"
      ],
      "metadata": {
        "colab": {
          "base_uri": "https://localhost:8080/"
        },
        "id": "RGfIFEXXEVrD",
        "outputId": "765c3b8e-b81d-43b9-d9af-19648d193c44"
      },
      "execution_count": 50,
      "outputs": [
        {
          "output_type": "stream",
          "name": "stdout",
          "text": [
            "[1, 2.1, True, (3+2j), [12, 33, 44], {43, 12}, 'Python']\n"
          ]
        }
      ]
    },
    {
      "cell_type": "markdown",
      "source": [
        "# **List function**\n",
        "List is a built in function which convert any compatible sequence type in list."
      ],
      "metadata": {
        "id": "QdhEvZ_DEtY9"
      }
    },
    {
      "cell_type": "code",
      "source": [
        "l2 = list(range(1,10))\n",
        "print(l2)"
      ],
      "metadata": {
        "colab": {
          "base_uri": "https://localhost:8080/"
        },
        "id": "LqsDLYbeFCbH",
        "outputId": "928a9524-691c-441d-8183-c7a6cbdc6959"
      },
      "execution_count": 6,
      "outputs": [
        {
          "output_type": "stream",
          "name": "stdout",
          "text": [
            "[1, 2, 3, 4, 5, 6, 7, 8, 9]\n"
          ]
        }
      ]
    },
    {
      "cell_type": "code",
      "source": [
        "s2 = 'Python'\n",
        "l3 = list(s2)\n",
        "print(l3)"
      ],
      "metadata": {
        "colab": {
          "base_uri": "https://localhost:8080/"
        },
        "id": "9x741bHfFIIC",
        "outputId": "817c31a6-d1fd-460a-af41-cc2f2991e074"
      },
      "execution_count": 10,
      "outputs": [
        {
          "output_type": "stream",
          "name": "stdout",
          "text": [
            "['P', 'y', 't', 'h', 'o', 'n']\n"
          ]
        }
      ]
    },
    {
      "cell_type": "markdown",
      "source": [
        "# **Methods of List**\n",
        "\n"
      ],
      "metadata": {
        "id": "6tKhpOxeF8Pf"
      }
    },
    {
      "cell_type": "markdown",
      "source": [
        "**1.append(element)**\n",
        "\n",
        "\n",
        "*   It is used to add single element in list.\n",
        "*   E.g: l1.append(45)\n",
        "\n"
      ],
      "metadata": {
        "id": "hBbuvJTpGMCw"
      }
    },
    {
      "cell_type": "code",
      "source": [
        "l1=[]\n",
        "l1.append(34)\n",
        "print(l1)"
      ],
      "metadata": {
        "colab": {
          "base_uri": "https://localhost:8080/"
        },
        "id": "qZRGenyNGJwb",
        "outputId": "7369d952-57e7-444e-addd-ea05f5d0c727"
      },
      "execution_count": 21,
      "outputs": [
        {
          "output_type": "stream",
          "name": "stdout",
          "text": [
            "[34]\n"
          ]
        }
      ]
    },
    {
      "cell_type": "markdown",
      "source": [
        "**2.extend(sequence obj)**\n",
        "\n",
        "\n",
        "*  It is used to add multiple element in list(any other sequence)\n",
        "*  E.g:-l1.extend([32,12,'bat'])\n",
        "\n"
      ],
      "metadata": {
        "id": "lCp06UqWGmZy"
      }
    },
    {
      "cell_type": "code",
      "source": [
        "l1.extend([2,3,21])\n",
        "print(\"l1 after extend:-\",l1)"
      ],
      "metadata": {
        "colab": {
          "base_uri": "https://localhost:8080/"
        },
        "id": "zRyrlS8OGi4n",
        "outputId": "fa642166-d285-4aec-93b5-d45cf16e7e6b"
      },
      "execution_count": 22,
      "outputs": [
        {
          "output_type": "stream",
          "name": "stdout",
          "text": [
            "l1 after extend:- [34, 2, 3, 21]\n"
          ]
        }
      ]
    },
    {
      "cell_type": "code",
      "source": [
        "l1.append({3,4,5})\n",
        "print(\"l1 after append:-\",l1)"
      ],
      "metadata": {
        "colab": {
          "base_uri": "https://localhost:8080/"
        },
        "id": "o9Yr2guWHNw1",
        "outputId": "cde79a92-631f-4867-ee0b-7c8f39d02adf"
      },
      "execution_count": 23,
      "outputs": [
        {
          "output_type": "stream",
          "name": "stdout",
          "text": [
            "l1 after append:- [34, 2, 3, 21, {3, 4, 5}]\n"
          ]
        }
      ]
    },
    {
      "cell_type": "markdown",
      "source": [
        "**3.insert(index,element)**\n",
        "\n",
        "\n",
        "*  It is used to add single element into a list as specific index(position)\n",
        "*   E.g:l1.insert(1,45)\n",
        "\n"
      ],
      "metadata": {
        "id": "FBptLXAHHXr8"
      }
    },
    {
      "cell_type": "code",
      "source": [
        "l1.insert(2,\"python\")\n",
        "print(\"l1 after insert:-\",l1)"
      ],
      "metadata": {
        "colab": {
          "base_uri": "https://localhost:8080/"
        },
        "id": "N3chVNvvHuK-",
        "outputId": "8a11bacf-c1e9-4ddf-801c-88c1bd971a4e"
      },
      "execution_count": 24,
      "outputs": [
        {
          "output_type": "stream",
          "name": "stdout",
          "text": [
            "l1 after insert:- [34, 2, 'python', 3, 21, {3, 4, 5}]\n"
          ]
        }
      ]
    },
    {
      "cell_type": "markdown",
      "source": [
        "**4.pop(index)**\n",
        "\n",
        "\n",
        "*   It is used to remove element by the index.\n",
        "*   E.g:l1.pop(3)\n",
        "\n"
      ],
      "metadata": {
        "id": "zgW-fbeGIjua"
      }
    },
    {
      "cell_type": "code",
      "source": [
        "l1.pop(3)"
      ],
      "metadata": {
        "colab": {
          "base_uri": "https://localhost:8080/"
        },
        "id": "8wn_RkfPI3jf",
        "outputId": "4a95dc25-fb02-4f99-c580-0e1e5cdd46e0"
      },
      "execution_count": 25,
      "outputs": [
        {
          "output_type": "execute_result",
          "data": {
            "text/plain": [
              "3"
            ]
          },
          "metadata": {},
          "execution_count": 25
        }
      ]
    },
    {
      "cell_type": "markdown",
      "source": [
        "**5.pop()**\n",
        "\n",
        "\n",
        "*   It will remove the value by the right hand side of list.\n",
        "\n"
      ],
      "metadata": {
        "id": "F1-WLbQLIlqC"
      }
    },
    {
      "cell_type": "code",
      "source": [
        "l1.pop()\n",
        "print(\"l1 after pop()\\n\",l1)"
      ],
      "metadata": {
        "colab": {
          "base_uri": "https://localhost:8080/"
        },
        "id": "5eMxwYJ1Jr5l",
        "outputId": "ad0f5c8b-4300-4fc0-b5bf-d34effa93534"
      },
      "execution_count": 26,
      "outputs": [
        {
          "output_type": "stream",
          "name": "stdout",
          "text": [
            "l1 after pop()\n",
            " [34, 2, 'python', 21]\n"
          ]
        }
      ]
    },
    {
      "cell_type": "markdown",
      "source": [
        "**6.remove(element)**\n",
        "\n",
        "\n",
        "* It is used to remove specified element from the list\n",
        "\n"
      ],
      "metadata": {
        "id": "TT04WyD5MRPB"
      }
    },
    {
      "cell_type": "code",
      "source": [
        "l1.remove(2)\n",
        "print(\"After remove 2:\",l1)"
      ],
      "metadata": {
        "colab": {
          "base_uri": "https://localhost:8080/"
        },
        "id": "LU5POjqtMho6",
        "outputId": "d6b59338-03fb-4c5f-f038-5c9f01b181e6"
      },
      "execution_count": 30,
      "outputs": [
        {
          "output_type": "stream",
          "name": "stdout",
          "text": [
            "After remove 2: [34, 'python', 21]\n"
          ]
        }
      ]
    },
    {
      "cell_type": "markdown",
      "source": [
        "**7.clear()**\n",
        "\n",
        "\n",
        "*   It is used to remove all the element of the list.\n",
        "\n"
      ],
      "metadata": {
        "id": "jYSjb2THIl3I"
      }
    },
    {
      "cell_type": "code",
      "source": [
        "l2 = [1,2,3,4,5]\n",
        "print(\"Before clear:\",l2)\n",
        "l2.clear()\n",
        "print(\"After clear:\",l2)"
      ],
      "metadata": {
        "colab": {
          "base_uri": "https://localhost:8080/"
        },
        "id": "bXsoAn2JKU2-",
        "outputId": "a19f9fbc-08af-44ff-d096-42fe774d02a8"
      },
      "execution_count": 28,
      "outputs": [
        {
          "output_type": "stream",
          "name": "stdout",
          "text": [
            "Before clear: [1, 2, 3, 4, 5]\n",
            "After clear: []\n"
          ]
        }
      ]
    },
    {
      "cell_type": "markdown",
      "source": [
        "**8.copy()**\n",
        "\n",
        "\n",
        "*   It returns a shallow copy.\n",
        "\n"
      ],
      "metadata": {
        "id": "xAZVeoihJ_3Z"
      }
    },
    {
      "cell_type": "code",
      "source": [
        "list1 = [1,2,3,4]\n",
        "list2 = list1.copy()    # It create shallow copy,here it will copy the element od variable\n",
        "print(list2)\n",
        "list3 = list1           # It is a deep copy,here it will copy the address.\n",
        "print(\"list3:\",list3,\"Address:-\",id(list3))\n",
        "print(\"list1:\",list1,\"Address:-\",id(list1))"
      ],
      "metadata": {
        "colab": {
          "base_uri": "https://localhost:8080/"
        },
        "id": "auV1vxGrKyHT",
        "outputId": "0de6f424-b8b4-43a3-b1c9-612b772b27f7"
      },
      "execution_count": 29,
      "outputs": [
        {
          "output_type": "stream",
          "name": "stdout",
          "text": [
            "[1, 2, 3, 4]\n",
            "list3: [1, 2, 3, 4] Address:- 140150105775312\n",
            "list1: [1, 2, 3, 4] Address:- 140150105775312\n"
          ]
        }
      ]
    },
    {
      "cell_type": "markdown",
      "source": [
        "**9.count(element)**\n",
        "\n",
        "\n",
        "* it returns the count of element which is specified into argument.\n",
        "\n"
      ],
      "metadata": {
        "id": "TUw0nwDBImGP"
      }
    },
    {
      "cell_type": "code",
      "source": [
        "l1 = [1,2,3,4,2,4,2,5,10]\n",
        "l1.count(2)"
      ],
      "metadata": {
        "colab": {
          "base_uri": "https://localhost:8080/"
        },
        "id": "COwz-pbFOITs",
        "outputId": "41fdc8ef-7176-406e-b3f3-99c332a9ff40"
      },
      "execution_count": 31,
      "outputs": [
        {
          "output_type": "execute_result",
          "data": {
            "text/plain": [
              "3"
            ]
          },
          "metadata": {},
          "execution_count": 31
        }
      ]
    },
    {
      "cell_type": "markdown",
      "source": [
        "**10.index(element)**\n",
        "\n",
        "\n",
        "* It returns the index of the first matched element.\n",
        "\n",
        "* It will start to search element from 0th index.\n",
        "\n",
        "\n",
        "\n"
      ],
      "metadata": {
        "id": "y6M7yD5uM9li"
      }
    },
    {
      "cell_type": "code",
      "source": [
        "print(\"1st matched index of 2 from starting index 0 is\",l1.index(2))"
      ],
      "metadata": {
        "colab": {
          "base_uri": "https://localhost:8080/"
        },
        "id": "BuZRWd1iOS0n",
        "outputId": "bf571053-e14b-4820-a64e-75de497bb8a4"
      },
      "execution_count": 37,
      "outputs": [
        {
          "output_type": "stream",
          "name": "stdout",
          "text": [
            "1st matched index of 2 from starting index 0 is 1\n"
          ]
        }
      ]
    },
    {
      "cell_type": "markdown",
      "source": [
        "**11.index(element,startindex,end)**\n",
        "\n",
        "\n",
        "* It returns the index of the first matched element.\n",
        "* It wil start to search the element from specified index\n",
        "\n"
      ],
      "metadata": {
        "id": "NzNamMEZM9w3"
      }
    },
    {
      "cell_type": "code",
      "source": [
        "l1 = [1,2,3,4,2,4,2,5,10]\n",
        "print(\"1st matched index of 2 from starting index 3 is\",l1.index(2,3))"
      ],
      "metadata": {
        "colab": {
          "base_uri": "https://localhost:8080/"
        },
        "id": "sduIrk31Ol2D",
        "outputId": "0e5b7ae1-e09a-46af-bced-c44104da2a1b"
      },
      "execution_count": 36,
      "outputs": [
        {
          "output_type": "stream",
          "name": "stdout",
          "text": [
            "1st matched index of 2 from starting index 3 is 4\n"
          ]
        }
      ]
    },
    {
      "cell_type": "markdown",
      "source": [
        "**12.sort(reverse=False)**\n",
        "\n",
        "* It will sort the element of the list in acsending order.\n",
        "\n",
        "**sort(reverse=True)**\n",
        "\n",
        "\n",
        "* It will sort the element of the list on descending order.\n",
        "\n",
        "\n",
        "\n"
      ],
      "metadata": {
        "id": "x3UQ34BFM94R"
      }
    },
    {
      "cell_type": "code",
      "source": [
        "l1=[1,2,3,5,7,4,8]\n",
        "l1.sort()\n",
        "print(l1)\n",
        "print(\"After reverse=True\")\n",
        "l1.sort(reverse=True)\n",
        "print(l1)"
      ],
      "metadata": {
        "colab": {
          "base_uri": "https://localhost:8080/"
        },
        "id": "_evbhRNwPA-_",
        "outputId": "841cd897-b050-4bc4-ffac-53ce2bcd1453"
      },
      "execution_count": 40,
      "outputs": [
        {
          "output_type": "stream",
          "name": "stdout",
          "text": [
            "[1, 2, 3, 4, 5, 7, 8]\n",
            "After reverse=True\n",
            "[8, 7, 5, 4, 3, 2, 1]\n"
          ]
        }
      ]
    },
    {
      "cell_type": "markdown",
      "source": [
        "**13.reverse()**\n",
        "\n",
        "* reverse the order of item in list.\n",
        "\n"
      ],
      "metadata": {
        "id": "1ADHUI_dQ7Qq"
      }
    },
    {
      "cell_type": "code",
      "source": [
        "l1=['A','B','D','C']\n",
        "l1.reverse()\n",
        "print(l1)"
      ],
      "metadata": {
        "colab": {
          "base_uri": "https://localhost:8080/"
        },
        "id": "Z79kG0N3RJnW",
        "outputId": "50dcd812-4dc2-4aef-b419-82c688800c18"
      },
      "execution_count": 44,
      "outputs": [
        {
          "output_type": "stream",
          "name": "stdout",
          "text": [
            "['C', 'D', 'B', 'A']\n"
          ]
        }
      ]
    },
    {
      "cell_type": "markdown",
      "source": [
        "# **Nested List**"
      ],
      "metadata": {
        "id": "1aEoHHkUM97E"
      }
    },
    {
      "cell_type": "code",
      "source": [
        "l2=[(101,'Raj'),(104,'Rosh'),(102,'Rohit'),(103,'Priya'),(105,'Ashish')]\n",
        "print(l2)"
      ],
      "metadata": {
        "colab": {
          "base_uri": "https://localhost:8080/"
        },
        "id": "UWNF2fZSP1e1",
        "outputId": "3e4c6160-82fe-4c99-fb4e-c019ca35846c"
      },
      "execution_count": 41,
      "outputs": [
        {
          "output_type": "stream",
          "name": "stdout",
          "text": [
            "[(101, 'Raj'), (104, 'Rosh'), (102, 'Rohit'), (103, 'Priya'), (105, 'Ashish')]\n"
          ]
        }
      ]
    },
    {
      "cell_type": "markdown",
      "source": [
        "##**User defined function on list**"
      ],
      "metadata": {
        "id": "ab6eqEECM99-"
      }
    },
    {
      "cell_type": "code",
      "source": [
        "def secondvalue(ele):\n",
        "  return ele[1]\n",
        "\n",
        "print(secondvalue(l2))"
      ],
      "metadata": {
        "colab": {
          "base_uri": "https://localhost:8080/"
        },
        "id": "wBbT87q-QFR-",
        "outputId": "bd89188f-7886-40fc-f255-98a98aa4ece6"
      },
      "execution_count": 42,
      "outputs": [
        {
          "output_type": "stream",
          "name": "stdout",
          "text": [
            "(104, 'Rosh')\n"
          ]
        }
      ]
    },
    {
      "cell_type": "markdown",
      "source": [
        "## **Sorting on nested list**"
      ],
      "metadata": {
        "id": "JQJYzk5iM-Aq"
      }
    },
    {
      "cell_type": "code",
      "source": [
        "l2.sort()\n",
        "print(\"After default sort\",l2)\n",
        "l2.sort(key=secondvalue)\n",
        "print(l2)"
      ],
      "metadata": {
        "id": "aHHGVvKwQgm2"
      },
      "execution_count": null,
      "outputs": []
    },
    {
      "cell_type": "markdown",
      "source": [
        "## **Slicing**\n",
        "\n",
        "\n",
        "*   Slicing is used to create sub list.\n",
        "*   It help to split list in sub part.\n",
        "*   **syntax:**\n",
        "        listvariable[startindex:endindex:step]\n",
        "        here endindex element not included in sublist.\n",
        "*   Negative step is used to read the element in negative order\n",
        "\n",
        "\n",
        "\n"
      ],
      "metadata": {
        "id": "3wHFeo22M-EH"
      }
    },
    {
      "cell_type": "code",
      "source": [
        "l1=[12, 6, 16, 19, 34, 6, 5]\n",
        "print(l1[2:4])"
      ],
      "metadata": {
        "colab": {
          "base_uri": "https://localhost:8080/"
        },
        "id": "h9XAE4uDSHHA",
        "outputId": "af798e3c-05ac-4be4-9603-7e9b199a879b"
      },
      "execution_count": 46,
      "outputs": [
        {
          "output_type": "stream",
          "name": "stdout",
          "text": [
            "[16, 19]\n"
          ]
        }
      ]
    },
    {
      "cell_type": "code",
      "source": [
        "print(l1[::2])"
      ],
      "metadata": {
        "colab": {
          "base_uri": "https://localhost:8080/"
        },
        "id": "hAnSH0AqSPSG",
        "outputId": "2e5c8e83-8ad7-4ba0-f0a2-2fb05e3480c8"
      },
      "execution_count": 47,
      "outputs": [
        {
          "output_type": "stream",
          "name": "stdout",
          "text": [
            "[12, 16, 34, 5]\n"
          ]
        }
      ]
    },
    {
      "cell_type": "code",
      "source": [
        "# To create list in reverse order.\n",
        "print(l1[::-1])"
      ],
      "metadata": {
        "colab": {
          "base_uri": "https://localhost:8080/"
        },
        "id": "YAe7552USVq8",
        "outputId": "6cac82d6-ae00-4452-c5d7-4e0fbba39248"
      },
      "execution_count": 48,
      "outputs": [
        {
          "output_type": "stream",
          "name": "stdout",
          "text": [
            "[5, 6, 34, 19, 16, 6, 12]\n"
          ]
        }
      ]
    },
    {
      "cell_type": "code",
      "source": [
        ""
      ],
      "metadata": {
        "id": "g9Nf2V6RSetc"
      },
      "execution_count": null,
      "outputs": []
    }
  ]
}